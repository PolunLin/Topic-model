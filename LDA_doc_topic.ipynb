{
 "metadata": {
  "language_info": {
   "codemirror_mode": {
    "name": "ipython",
    "version": 3
   },
   "file_extension": ".py",
   "mimetype": "text/x-python",
   "name": "python",
   "nbconvert_exporter": "python",
   "pygments_lexer": "ipython3",
   "version": "3.8.5"
  },
  "orig_nbformat": 2,
  "kernelspec": {
   "name": "python385jvsc74a57bd03ffa5b9ea856ed8ffaf5105c7cda503ceb4538c7650d33f63eca5c51fb008d20",
   "display_name": "Python 3.8.5 64-bit ('base': conda)"
  }
 },
 "nbformat": 4,
 "nbformat_minor": 2,
 "cells": [
  {
   "cell_type": "code",
   "execution_count": 7,
   "metadata": {},
   "outputs": [],
   "source": [
    "import gensim\n",
    "from gensim import corpora\n",
    "\n",
    "lda = gensim.models.LdaModel.load(\"../../data/LDA_data/202103240_Step2_clean_data_30/model5.gensim\")\n"
   ]
  },
  {
   "cell_type": "code",
   "execution_count": 8,
   "metadata": {},
   "outputs": [],
   "source": [
    "import pickle\n",
    "with open(\"../../data/LDA_data/202103240_Step2_clean_data_30//corpus.pkl\",'rb') as f:\n",
    "    corpus = pickle.load(f)"
   ]
  },
  {
   "cell_type": "code",
   "execution_count": 4,
   "metadata": {},
   "outputs": [],
   "source": [
    "with open(\"clean_data.pkl\",'rb') as f:\n",
    "    data = pickle.load(f)"
   ]
  },
  {
   "cell_type": "code",
   "execution_count": 5,
   "metadata": {},
   "outputs": [
    {
     "output_type": "execute_result",
     "data": {
      "text/plain": [
       "3804"
      ]
     },
     "metadata": {},
     "execution_count": 5
    }
   ],
   "source": [
    "len(data)"
   ]
  },
  {
   "cell_type": "code",
   "execution_count": 9,
   "metadata": {},
   "outputs": [],
   "source": [
    "with open(\"clean_doc.pkl\",'rb') as f:\n",
    "    clean_doc = pickle.load(f)"
   ]
  },
  {
   "source": [
    "## doc and top matrix"
   ],
   "cell_type": "markdown",
   "metadata": {}
  },
  {
   "cell_type": "code",
   "execution_count": 6,
   "metadata": {},
   "outputs": [],
   "source": [
    "#init\n",
    "import numpy as np\n",
    "import pandas as pd\n",
    "d = np.zeros((len(corpus),30))\n"
   ]
  },
  {
   "cell_type": "code",
   "execution_count": 7,
   "metadata": {
    "tags": []
   },
   "outputs": [],
   "source": [
    "for i, doc in enumerate(lda[corpus]):\n",
    "    # print(doc)\n",
    "    for topic in doc:\n",
    "        d[i][topic[0]] = topic[1]\n"
   ]
  },
  {
   "cell_type": "code",
   "execution_count": 1,
   "metadata": {},
   "outputs": [
    {
     "output_type": "error",
     "ename": "NameError",
     "evalue": "name 'doctm' is not defined",
     "traceback": [
      "\u001b[1;31m---------------------------------------------------------------------------\u001b[0m",
      "\u001b[1;31mNameError\u001b[0m                                 Traceback (most recent call last)",
      "\u001b[1;32m<ipython-input-1-825d08ef2dcd>\u001b[0m in \u001b[0;36m<module>\u001b[1;34m\u001b[0m\n\u001b[1;32m----> 1\u001b[1;33m \u001b[1;32mdel\u001b[0m \u001b[0mdoctm\u001b[0m\u001b[1;33m[\u001b[0m\u001b[1;34m'data'\u001b[0m\u001b[1;33m]\u001b[0m\u001b[1;33m\u001b[0m\u001b[1;33m\u001b[0m\u001b[0m\n\u001b[0m",
      "\u001b[1;31mNameError\u001b[0m: name 'doctm' is not defined"
     ]
    }
   ],
   "source": [
    "del doctm['data']"
   ]
  },
  {
   "cell_type": "code",
   "execution_count": 35,
   "metadata": {},
   "outputs": [],
   "source": [
    "doctm = pd.DataFrame(d, columns=range(1,31))"
   ]
  },
  {
   "cell_type": "code",
   "execution_count": 11,
   "metadata": {},
   "outputs": [],
   "source": [
    "clean_doc = clean_doc[0] +clean_doc[1] +clean_doc[2]"
   ]
  },
  {
   "cell_type": "code",
   "execution_count": 37,
   "metadata": {},
   "outputs": [],
   "source": [
    "doctm['paper'] = clean_doc"
   ]
  },
  {
   "cell_type": "code",
   "execution_count": 13,
   "metadata": {},
   "outputs": [],
   "source": [
    "ind = np.argwhere(d==np.amax(d,1, keepdims=True))"
   ]
  },
  {
   "cell_type": "code",
   "execution_count": 14,
   "metadata": {},
   "outputs": [],
   "source": [
    "import pandas as pd\n",
    "ind = pd.DataFrame(ind, columns=['doc_id',\"max_topic\"])"
   ]
  },
  {
   "cell_type": "code",
   "execution_count": 20,
   "metadata": {},
   "outputs": [
    {
     "output_type": "execute_result",
     "data": {
      "text/plain": [
       "max_topic\n",
       "0      47\n",
       "1     260\n",
       "2     102\n",
       "3     304\n",
       "4      12\n",
       "5     169\n",
       "6     115\n",
       "7      42\n",
       "8      89\n",
       "9     105\n",
       "10    198\n",
       "11     56\n",
       "12     88\n",
       "13    185\n",
       "14    104\n",
       "15    132\n",
       "16    135\n",
       "17    144\n",
       "18     13\n",
       "19      8\n",
       "20    280\n",
       "21    382\n",
       "22    164\n",
       "23     55\n",
       "24    114\n",
       "25    185\n",
       "26     94\n",
       "27     40\n",
       "28    174\n",
       "29     37\n",
       "Name: doc_id, dtype: int64"
      ]
     },
     "metadata": {},
     "execution_count": 20
    }
   ],
   "source": [
    "ind.groupby('max_topic')['doc_id'].nunique()"
   ]
  },
  {
   "cell_type": "code",
   "execution_count": 15,
   "metadata": {},
   "outputs": [],
   "source": [
    "topic_num_docid = []\n",
    "for i,x in ind.iterrows():\n",
    "    if x['max_topic'] ==4:\n",
    "        topic_num_docid.append(x['doc_id'])\n",
    "        # print(x['doc_id'],end=\"  \")"
   ]
  },
  {
   "cell_type": "code",
   "execution_count": 38,
   "metadata": {},
   "outputs": [],
   "source": [
    "doctm['max_top'] = ind['max_topic']+1"
   ]
  },
  {
   "cell_type": "code",
   "execution_count": 22,
   "metadata": {},
   "outputs": [],
   "source": [
    "doctm['token'] = data"
   ]
  },
  {
   "cell_type": "code",
   "execution_count": 17,
   "metadata": {},
   "outputs": [],
   "source": [
    "doctm = doctm[['paper', 1, 2,3,4,5,6,7,8,9,10,'max_top']]"
   ]
  },
  {
   "cell_type": "code",
   "execution_count": 18,
   "metadata": {},
   "outputs": [],
   "source": [
    "K = lda.num_topics\n",
    "topicWordProbMat = lda.print_topics(K)\n",
    "df = pd.DataFrame(np.matrix(topicWordProbMat))"
   ]
  },
  {
   "cell_type": "code",
   "execution_count": 25,
   "metadata": {},
   "outputs": [],
   "source": [
    "import re\n",
    "li=[]\n",
    "\n",
    "for index,x in enumerate(topicWordProbMat):\n",
    "    topic_dic={}\n",
    "    topic_dic['topic'] =index+1\n",
    "    for i,row in enumerate(x[1].split(\" + \")):      \n",
    "        topic_dic[f'word {i+1}'] = re.findall(\"\\\"\\S+\\\"\",row)\n",
    "    li.append(topic_dic)"
   ]
  },
  {
   "cell_type": "code",
   "execution_count": 28,
   "metadata": {},
   "outputs": [],
   "source": [
    "df =pd.DataFrame(li)"
   ]
  },
  {
   "cell_type": "code",
   "execution_count": 29,
   "metadata": {},
   "outputs": [],
   "source": [
    "with open(\"df_30.pkl\",'wb') as f:\n",
    "    pickle.dump(df,f)"
   ]
  },
  {
   "cell_type": "code",
   "execution_count": 21,
   "metadata": {},
   "outputs": [],
   "source": [
    "df['top_word'] = df[1]"
   ]
  },
  {
   "cell_type": "code",
   "execution_count": 22,
   "metadata": {},
   "outputs": [
    {
     "output_type": "execute_result",
     "data": {
      "text/plain": [
       "RangeIndex(start=0, stop=30, step=1)"
      ]
     },
     "metadata": {},
     "execution_count": 22
    }
   ],
   "source": [
    "df.index"
   ]
  },
  {
   "cell_type": "code",
   "execution_count": 23,
   "metadata": {},
   "outputs": [],
   "source": [
    "df[['index']] = df.index+1"
   ]
  },
  {
   "cell_type": "code",
   "execution_count": 39,
   "metadata": {},
   "outputs": [
    {
     "output_type": "execute_result",
     "data": {
      "text/plain": [
       "             1         2         3         4    5         6         7    8  \\\n",
       "0     0.000000  0.000000  0.000000  0.000000  0.0  0.000000  0.000000  0.0   \n",
       "1     0.000000  0.000000  0.000000  0.129434  0.0  0.000000  0.025684  0.0   \n",
       "2     0.000000  0.000000  0.000000  0.879153  0.0  0.000000  0.000000  0.0   \n",
       "3     0.210785  0.000000  0.000000  0.496845  0.0  0.000000  0.000000  0.0   \n",
       "4     0.000000  0.000000  0.000000  0.000000  0.0  0.000000  0.000000  0.0   \n",
       "...        ...       ...       ...       ...  ...       ...       ...  ...   \n",
       "3799  0.000000  0.689110  0.000000  0.000000  0.0  0.000000  0.016239  0.0   \n",
       "3800  0.000000  0.000000  0.000000  0.016015  0.0  0.000000  0.000000  0.0   \n",
       "3801  0.000000  0.000000  0.000000  0.000000  0.0  0.000000  0.000000  0.0   \n",
       "3802  0.000000  0.000000  0.000000  0.000000  0.0  0.024781  0.046504  0.0   \n",
       "3803  0.000000  0.624211  0.345863  0.000000  0.0  0.000000  0.000000  0.0   \n",
       "\n",
       "             9        10  ...        23   24        25        26        27  \\\n",
       "0     0.873401  0.000000  ...  0.000000  0.0  0.000000  0.000000  0.000000   \n",
       "1     0.000000  0.336331  ...  0.000000  0.0  0.000000  0.000000  0.000000   \n",
       "2     0.000000  0.000000  ...  0.000000  0.0  0.000000  0.000000  0.000000   \n",
       "3     0.042124  0.000000  ...  0.000000  0.0  0.000000  0.000000  0.000000   \n",
       "4     0.000000  0.034866  ...  0.096122  0.0  0.000000  0.000000  0.000000   \n",
       "...        ...       ...  ...       ...  ...       ...       ...       ...   \n",
       "3799  0.000000  0.000000  ...  0.000000  0.0  0.000000  0.000000  0.000000   \n",
       "3800  0.000000  0.000000  ...  0.600542  0.0  0.000000  0.000000  0.000000   \n",
       "3801  0.000000  0.000000  ...  0.000000  0.0  0.054148  0.832671  0.000000   \n",
       "3802  0.000000  0.000000  ...  0.000000  0.0  0.000000  0.104029  0.000000   \n",
       "3803  0.000000  0.000000  ...  0.000000  0.0  0.000000  0.000000  0.011965   \n",
       "\n",
       "       28        29   30                                              paper  \\\n",
       "0     0.0  0.000000  0.0  [ 國立臺灣師範大學化學系 碩士論文 Department of Chemistry, Na...   \n",
       "1     0.0  0.036479  0.0  [ 國立臺灣師範大學運動與休閒學院 運動休閒與餐旅管理研究所 碩士學位論文 不同形式之自然體...   \n",
       "2     0.0  0.000000  0.0  [ 國 立臺灣師範大學科技應用與人力資源發展學系 碩士論文 職場排擠對員工工作態度與行為之影...   \n",
       "3     0.0  0.000000  0.0  [ 國立臺灣師範大學生命科學系 碩士論文 Rab18透過催乳素調控產後母鼠成年神經元新生、育...   \n",
       "4     0.0  0.000000  0.0  [ 國立臺灣師範大學社會工作學研究所 碩士論文 跨境工作者服務經驗之初探 The servi...   \n",
       "...   ...       ...  ...                                                ...   \n",
       "3799  0.0  0.000000  0.0  [ 國立臺灣師範大學運動與休閒學院體育學系 博士論文 Department of Physi...   \n",
       "3800  0.0  0.216594  0.0  [ 國立臺灣師範大學教育學院教育學系 博士論文 Department of Educatio...   \n",
       "3801  0.0  0.081203  0.0  [國立臺灣師範大學教育學院教育學系 博士論文 Department of Education...   \n",
       "3802  0.0  0.000000  0.0  [國立臺灣師範大學運動與休閒學院體育學系 博士論文 Department of Physic...   \n",
       "3803  0.0  0.000000  0.0  [ 國立臺灣師範大學美術學系博士班博士論文 美術創作理論組-水墨畫 指導教授：林昌德教授 指...   \n",
       "\n",
       "      max_top  \n",
       "0           9  \n",
       "1          11  \n",
       "2           4  \n",
       "3           4  \n",
       "4          11  \n",
       "...       ...  \n",
       "3799        4  \n",
       "3800        4  \n",
       "3801       22  \n",
       "3802       22  \n",
       "3803       22  \n",
       "\n",
       "[3804 rows x 32 columns]"
      ],
      "text/html": "<div>\n<style scoped>\n    .dataframe tbody tr th:only-of-type {\n        vertical-align: middle;\n    }\n\n    .dataframe tbody tr th {\n        vertical-align: top;\n    }\n\n    .dataframe thead th {\n        text-align: right;\n    }\n</style>\n<table border=\"1\" class=\"dataframe\">\n  <thead>\n    <tr style=\"text-align: right;\">\n      <th></th>\n      <th>1</th>\n      <th>2</th>\n      <th>3</th>\n      <th>4</th>\n      <th>5</th>\n      <th>6</th>\n      <th>7</th>\n      <th>8</th>\n      <th>9</th>\n      <th>10</th>\n      <th>...</th>\n      <th>23</th>\n      <th>24</th>\n      <th>25</th>\n      <th>26</th>\n      <th>27</th>\n      <th>28</th>\n      <th>29</th>\n      <th>30</th>\n      <th>paper</th>\n      <th>max_top</th>\n    </tr>\n  </thead>\n  <tbody>\n    <tr>\n      <th>0</th>\n      <td>0.000000</td>\n      <td>0.000000</td>\n      <td>0.000000</td>\n      <td>0.000000</td>\n      <td>0.0</td>\n      <td>0.000000</td>\n      <td>0.000000</td>\n      <td>0.0</td>\n      <td>0.873401</td>\n      <td>0.000000</td>\n      <td>...</td>\n      <td>0.000000</td>\n      <td>0.0</td>\n      <td>0.000000</td>\n      <td>0.000000</td>\n      <td>0.000000</td>\n      <td>0.0</td>\n      <td>0.000000</td>\n      <td>0.0</td>\n      <td>[ 國立臺灣師範大學化學系 碩士論文 Department of Chemistry, Na...</td>\n      <td>9</td>\n    </tr>\n    <tr>\n      <th>1</th>\n      <td>0.000000</td>\n      <td>0.000000</td>\n      <td>0.000000</td>\n      <td>0.129434</td>\n      <td>0.0</td>\n      <td>0.000000</td>\n      <td>0.025684</td>\n      <td>0.0</td>\n      <td>0.000000</td>\n      <td>0.336331</td>\n      <td>...</td>\n      <td>0.000000</td>\n      <td>0.0</td>\n      <td>0.000000</td>\n      <td>0.000000</td>\n      <td>0.000000</td>\n      <td>0.0</td>\n      <td>0.036479</td>\n      <td>0.0</td>\n      <td>[ 國立臺灣師範大學運動與休閒學院 運動休閒與餐旅管理研究所 碩士學位論文 不同形式之自然體...</td>\n      <td>11</td>\n    </tr>\n    <tr>\n      <th>2</th>\n      <td>0.000000</td>\n      <td>0.000000</td>\n      <td>0.000000</td>\n      <td>0.879153</td>\n      <td>0.0</td>\n      <td>0.000000</td>\n      <td>0.000000</td>\n      <td>0.0</td>\n      <td>0.000000</td>\n      <td>0.000000</td>\n      <td>...</td>\n      <td>0.000000</td>\n      <td>0.0</td>\n      <td>0.000000</td>\n      <td>0.000000</td>\n      <td>0.000000</td>\n      <td>0.0</td>\n      <td>0.000000</td>\n      <td>0.0</td>\n      <td>[ 國 立臺灣師範大學科技應用與人力資源發展學系 碩士論文 職場排擠對員工工作態度與行為之影...</td>\n      <td>4</td>\n    </tr>\n    <tr>\n      <th>3</th>\n      <td>0.210785</td>\n      <td>0.000000</td>\n      <td>0.000000</td>\n      <td>0.496845</td>\n      <td>0.0</td>\n      <td>0.000000</td>\n      <td>0.000000</td>\n      <td>0.0</td>\n      <td>0.042124</td>\n      <td>0.000000</td>\n      <td>...</td>\n      <td>0.000000</td>\n      <td>0.0</td>\n      <td>0.000000</td>\n      <td>0.000000</td>\n      <td>0.000000</td>\n      <td>0.0</td>\n      <td>0.000000</td>\n      <td>0.0</td>\n      <td>[ 國立臺灣師範大學生命科學系 碩士論文 Rab18透過催乳素調控產後母鼠成年神經元新生、育...</td>\n      <td>4</td>\n    </tr>\n    <tr>\n      <th>4</th>\n      <td>0.000000</td>\n      <td>0.000000</td>\n      <td>0.000000</td>\n      <td>0.000000</td>\n      <td>0.0</td>\n      <td>0.000000</td>\n      <td>0.000000</td>\n      <td>0.0</td>\n      <td>0.000000</td>\n      <td>0.034866</td>\n      <td>...</td>\n      <td>0.096122</td>\n      <td>0.0</td>\n      <td>0.000000</td>\n      <td>0.000000</td>\n      <td>0.000000</td>\n      <td>0.0</td>\n      <td>0.000000</td>\n      <td>0.0</td>\n      <td>[ 國立臺灣師範大學社會工作學研究所 碩士論文 跨境工作者服務經驗之初探 The servi...</td>\n      <td>11</td>\n    </tr>\n    <tr>\n      <th>...</th>\n      <td>...</td>\n      <td>...</td>\n      <td>...</td>\n      <td>...</td>\n      <td>...</td>\n      <td>...</td>\n      <td>...</td>\n      <td>...</td>\n      <td>...</td>\n      <td>...</td>\n      <td>...</td>\n      <td>...</td>\n      <td>...</td>\n      <td>...</td>\n      <td>...</td>\n      <td>...</td>\n      <td>...</td>\n      <td>...</td>\n      <td>...</td>\n      <td>...</td>\n      <td>...</td>\n    </tr>\n    <tr>\n      <th>3799</th>\n      <td>0.000000</td>\n      <td>0.689110</td>\n      <td>0.000000</td>\n      <td>0.000000</td>\n      <td>0.0</td>\n      <td>0.000000</td>\n      <td>0.016239</td>\n      <td>0.0</td>\n      <td>0.000000</td>\n      <td>0.000000</td>\n      <td>...</td>\n      <td>0.000000</td>\n      <td>0.0</td>\n      <td>0.000000</td>\n      <td>0.000000</td>\n      <td>0.000000</td>\n      <td>0.0</td>\n      <td>0.000000</td>\n      <td>0.0</td>\n      <td>[ 國立臺灣師範大學運動與休閒學院體育學系 博士論文 Department of Physi...</td>\n      <td>4</td>\n    </tr>\n    <tr>\n      <th>3800</th>\n      <td>0.000000</td>\n      <td>0.000000</td>\n      <td>0.000000</td>\n      <td>0.016015</td>\n      <td>0.0</td>\n      <td>0.000000</td>\n      <td>0.000000</td>\n      <td>0.0</td>\n      <td>0.000000</td>\n      <td>0.000000</td>\n      <td>...</td>\n      <td>0.600542</td>\n      <td>0.0</td>\n      <td>0.000000</td>\n      <td>0.000000</td>\n      <td>0.000000</td>\n      <td>0.0</td>\n      <td>0.216594</td>\n      <td>0.0</td>\n      <td>[ 國立臺灣師範大學教育學院教育學系 博士論文 Department of Educatio...</td>\n      <td>4</td>\n    </tr>\n    <tr>\n      <th>3801</th>\n      <td>0.000000</td>\n      <td>0.000000</td>\n      <td>0.000000</td>\n      <td>0.000000</td>\n      <td>0.0</td>\n      <td>0.000000</td>\n      <td>0.000000</td>\n      <td>0.0</td>\n      <td>0.000000</td>\n      <td>0.000000</td>\n      <td>...</td>\n      <td>0.000000</td>\n      <td>0.0</td>\n      <td>0.054148</td>\n      <td>0.832671</td>\n      <td>0.000000</td>\n      <td>0.0</td>\n      <td>0.081203</td>\n      <td>0.0</td>\n      <td>[國立臺灣師範大學教育學院教育學系 博士論文 Department of Education...</td>\n      <td>22</td>\n    </tr>\n    <tr>\n      <th>3802</th>\n      <td>0.000000</td>\n      <td>0.000000</td>\n      <td>0.000000</td>\n      <td>0.000000</td>\n      <td>0.0</td>\n      <td>0.024781</td>\n      <td>0.046504</td>\n      <td>0.0</td>\n      <td>0.000000</td>\n      <td>0.000000</td>\n      <td>...</td>\n      <td>0.000000</td>\n      <td>0.0</td>\n      <td>0.000000</td>\n      <td>0.104029</td>\n      <td>0.000000</td>\n      <td>0.0</td>\n      <td>0.000000</td>\n      <td>0.0</td>\n      <td>[國立臺灣師範大學運動與休閒學院體育學系 博士論文 Department of Physic...</td>\n      <td>22</td>\n    </tr>\n    <tr>\n      <th>3803</th>\n      <td>0.000000</td>\n      <td>0.624211</td>\n      <td>0.345863</td>\n      <td>0.000000</td>\n      <td>0.0</td>\n      <td>0.000000</td>\n      <td>0.000000</td>\n      <td>0.0</td>\n      <td>0.000000</td>\n      <td>0.000000</td>\n      <td>...</td>\n      <td>0.000000</td>\n      <td>0.0</td>\n      <td>0.000000</td>\n      <td>0.000000</td>\n      <td>0.011965</td>\n      <td>0.0</td>\n      <td>0.000000</td>\n      <td>0.0</td>\n      <td>[ 國立臺灣師範大學美術學系博士班博士論文 美術創作理論組-水墨畫 指導教授：林昌德教授 指...</td>\n      <td>22</td>\n    </tr>\n  </tbody>\n</table>\n<p>3804 rows × 32 columns</p>\n</div>"
     },
     "metadata": {},
     "execution_count": 39
    }
   ],
   "source": [
    "doctm"
   ]
  },
  {
   "cell_type": "code",
   "execution_count": 42,
   "metadata": {},
   "outputs": [],
   "source": [
    "doctm_t = doctm.T"
   ]
  },
  {
   "cell_type": "code",
   "execution_count": 62,
   "metadata": {},
   "outputs": [
    {
     "output_type": "execute_result",
     "data": {
      "text/plain": [
       "3804"
      ]
     },
     "metadata": {},
     "execution_count": 62
    }
   ],
   "source": [
    "len(doctm)"
   ]
  },
  {
   "cell_type": "code",
   "execution_count": 81,
   "metadata": {},
   "outputs": [
    {
     "output_type": "execute_result",
     "data": {
      "text/plain": [
       "Index([        1,         2,         3,         4,         5,         6,\n",
       "               7,         8,         9,        10,        11,        12,\n",
       "              13,        14,        15,        16,        17,        18,\n",
       "              19,        20,        21,        22,        23,        24,\n",
       "              25,        26,        27,        28,        29,        30,\n",
       "         'paper', 'max_top',   'token'],\n",
       "      dtype='object')"
      ]
     },
     "metadata": {},
     "execution_count": 81
    }
   ],
   "source": [
    "doctm.columns"
   ]
  },
  {
   "cell_type": "code",
   "execution_count": 166,
   "metadata": {},
   "outputs": [],
   "source": [
    "doctm =doctm[[1,\t2\t,3,\t4,\t5,\t6,\t7,\t8,\t9,\t10,\t'max_top']]"
   ]
  },
  {
   "cell_type": "code",
   "execution_count": 172,
   "metadata": {},
   "outputs": [],
   "source": [
    "with open(\"df.pkl\",'wb') as f:\n",
    "    pickle.dump(doctm,f)"
   ]
  },
  {
   "cell_type": "code",
   "execution_count": 40,
   "metadata": {},
   "outputs": [],
   "source": [
    "with open(\"doctm.pkl\",'wb') as f:\n",
    "    pickle.dump(doctm,f)"
   ]
  },
  {
   "cell_type": "code",
   "execution_count": 32,
   "metadata": {},
   "outputs": [
    {
     "output_type": "error",
     "ename": "KeyError",
     "evalue": "11",
     "traceback": [
      "\u001b[1;31m---------------------------------------------------------------------------\u001b[0m",
      "\u001b[1;31mKeyError\u001b[0m                                  Traceback (most recent call last)",
      "\u001b[1;32m~\\anaconda3\\lib\\site-packages\\pandas\\core\\indexes\\base.py\u001b[0m in \u001b[0;36mget_loc\u001b[1;34m(self, key, method, tolerance)\u001b[0m\n\u001b[0;32m   2894\u001b[0m             \u001b[1;32mtry\u001b[0m\u001b[1;33m:\u001b[0m\u001b[1;33m\u001b[0m\u001b[1;33m\u001b[0m\u001b[0m\n\u001b[1;32m-> 2895\u001b[1;33m                 \u001b[1;32mreturn\u001b[0m \u001b[0mself\u001b[0m\u001b[1;33m.\u001b[0m\u001b[0m_engine\u001b[0m\u001b[1;33m.\u001b[0m\u001b[0mget_loc\u001b[0m\u001b[1;33m(\u001b[0m\u001b[0mcasted_key\u001b[0m\u001b[1;33m)\u001b[0m\u001b[1;33m\u001b[0m\u001b[1;33m\u001b[0m\u001b[0m\n\u001b[0m\u001b[0;32m   2896\u001b[0m             \u001b[1;32mexcept\u001b[0m \u001b[0mKeyError\u001b[0m \u001b[1;32mas\u001b[0m \u001b[0merr\u001b[0m\u001b[1;33m:\u001b[0m\u001b[1;33m\u001b[0m\u001b[1;33m\u001b[0m\u001b[0m\n",
      "\u001b[1;32mpandas\\_libs\\index.pyx\u001b[0m in \u001b[0;36mpandas._libs.index.IndexEngine.get_loc\u001b[1;34m()\u001b[0m\n",
      "\u001b[1;32mpandas\\_libs\\index.pyx\u001b[0m in \u001b[0;36mpandas._libs.index.IndexEngine.get_loc\u001b[1;34m()\u001b[0m\n",
      "\u001b[1;32mpandas\\_libs\\hashtable_class_helper.pxi\u001b[0m in \u001b[0;36mpandas._libs.hashtable.PyObjectHashTable.get_item\u001b[1;34m()\u001b[0m\n",
      "\u001b[1;32mpandas\\_libs\\hashtable_class_helper.pxi\u001b[0m in \u001b[0;36mpandas._libs.hashtable.PyObjectHashTable.get_item\u001b[1;34m()\u001b[0m\n",
      "\u001b[1;31mKeyError\u001b[0m: 11",
      "\nThe above exception was the direct cause of the following exception:\n",
      "\u001b[1;31mKeyError\u001b[0m                                  Traceback (most recent call last)",
      "\u001b[1;32m<ipython-input-32-4d7d33a02921>\u001b[0m in \u001b[0;36m<module>\u001b[1;34m\u001b[0m\n\u001b[0;32m      8\u001b[0m \u001b[0mF\u001b[0m \u001b[1;33m=\u001b[0m \u001b[1;33m[\u001b[0m\u001b[1;33m]\u001b[0m\u001b[1;33m\u001b[0m\u001b[1;33m\u001b[0m\u001b[0m\n\u001b[0;32m      9\u001b[0m \u001b[1;32mfor\u001b[0m \u001b[0mi\u001b[0m \u001b[1;32min\u001b[0m \u001b[0mrange\u001b[0m\u001b[1;33m(\u001b[0m\u001b[1;36m30\u001b[0m\u001b[1;33m)\u001b[0m\u001b[1;33m:\u001b[0m\u001b[1;33m\u001b[0m\u001b[1;33m\u001b[0m\u001b[0m\n\u001b[1;32m---> 10\u001b[1;33m     \u001b[0mF\u001b[0m\u001b[1;33m.\u001b[0m\u001b[0mappend\u001b[0m\u001b[1;33m(\u001b[0m\u001b[0mdoctm\u001b[0m\u001b[1;33m[\u001b[0m\u001b[0mi\u001b[0m\u001b[1;33m+\u001b[0m\u001b[1;36m1\u001b[0m\u001b[1;33m]\u001b[0m\u001b[1;33m[\u001b[0m\u001b[1;36m5\u001b[0m\u001b[1;33m]\u001b[0m\u001b[1;33m)\u001b[0m\u001b[1;33m\u001b[0m\u001b[1;33m\u001b[0m\u001b[0m\n\u001b[0m\u001b[0;32m     11\u001b[0m \u001b[1;31m# F = [doctm[1][w],doctm[2][w],doctm[3][w],doctm[4][w],doctm[5][w],doctm[6][w],doctm[7][w],doctm[8][w],doctm[9][w],doctm[10][w]]\u001b[0m\u001b[1;33m\u001b[0m\u001b[1;33m\u001b[0m\u001b[1;33m\u001b[0m\u001b[0m\n\u001b[0;32m     12\u001b[0m \u001b[0mplt\u001b[0m\u001b[1;33m.\u001b[0m\u001b[0mbar\u001b[0m\u001b[1;33m(\u001b[0m\u001b[0mx_pos\u001b[0m\u001b[1;33m,\u001b[0m \u001b[0mF\u001b[0m\u001b[1;33m)\u001b[0m\u001b[1;33m\u001b[0m\u001b[1;33m\u001b[0m\u001b[0m\n",
      "\u001b[1;32m~\\anaconda3\\lib\\site-packages\\pandas\\core\\frame.py\u001b[0m in \u001b[0;36m__getitem__\u001b[1;34m(self, key)\u001b[0m\n\u001b[0;32m   2900\u001b[0m             \u001b[1;32mif\u001b[0m \u001b[0mself\u001b[0m\u001b[1;33m.\u001b[0m\u001b[0mcolumns\u001b[0m\u001b[1;33m.\u001b[0m\u001b[0mnlevels\u001b[0m \u001b[1;33m>\u001b[0m \u001b[1;36m1\u001b[0m\u001b[1;33m:\u001b[0m\u001b[1;33m\u001b[0m\u001b[1;33m\u001b[0m\u001b[0m\n\u001b[0;32m   2901\u001b[0m                 \u001b[1;32mreturn\u001b[0m \u001b[0mself\u001b[0m\u001b[1;33m.\u001b[0m\u001b[0m_getitem_multilevel\u001b[0m\u001b[1;33m(\u001b[0m\u001b[0mkey\u001b[0m\u001b[1;33m)\u001b[0m\u001b[1;33m\u001b[0m\u001b[1;33m\u001b[0m\u001b[0m\n\u001b[1;32m-> 2902\u001b[1;33m             \u001b[0mindexer\u001b[0m \u001b[1;33m=\u001b[0m \u001b[0mself\u001b[0m\u001b[1;33m.\u001b[0m\u001b[0mcolumns\u001b[0m\u001b[1;33m.\u001b[0m\u001b[0mget_loc\u001b[0m\u001b[1;33m(\u001b[0m\u001b[0mkey\u001b[0m\u001b[1;33m)\u001b[0m\u001b[1;33m\u001b[0m\u001b[1;33m\u001b[0m\u001b[0m\n\u001b[0m\u001b[0;32m   2903\u001b[0m             \u001b[1;32mif\u001b[0m \u001b[0mis_integer\u001b[0m\u001b[1;33m(\u001b[0m\u001b[0mindexer\u001b[0m\u001b[1;33m)\u001b[0m\u001b[1;33m:\u001b[0m\u001b[1;33m\u001b[0m\u001b[1;33m\u001b[0m\u001b[0m\n\u001b[0;32m   2904\u001b[0m                 \u001b[0mindexer\u001b[0m \u001b[1;33m=\u001b[0m \u001b[1;33m[\u001b[0m\u001b[0mindexer\u001b[0m\u001b[1;33m]\u001b[0m\u001b[1;33m\u001b[0m\u001b[1;33m\u001b[0m\u001b[0m\n",
      "\u001b[1;32m~\\anaconda3\\lib\\site-packages\\pandas\\core\\indexes\\base.py\u001b[0m in \u001b[0;36mget_loc\u001b[1;34m(self, key, method, tolerance)\u001b[0m\n\u001b[0;32m   2895\u001b[0m                 \u001b[1;32mreturn\u001b[0m \u001b[0mself\u001b[0m\u001b[1;33m.\u001b[0m\u001b[0m_engine\u001b[0m\u001b[1;33m.\u001b[0m\u001b[0mget_loc\u001b[0m\u001b[1;33m(\u001b[0m\u001b[0mcasted_key\u001b[0m\u001b[1;33m)\u001b[0m\u001b[1;33m\u001b[0m\u001b[1;33m\u001b[0m\u001b[0m\n\u001b[0;32m   2896\u001b[0m             \u001b[1;32mexcept\u001b[0m \u001b[0mKeyError\u001b[0m \u001b[1;32mas\u001b[0m \u001b[0merr\u001b[0m\u001b[1;33m:\u001b[0m\u001b[1;33m\u001b[0m\u001b[1;33m\u001b[0m\u001b[0m\n\u001b[1;32m-> 2897\u001b[1;33m                 \u001b[1;32mraise\u001b[0m \u001b[0mKeyError\u001b[0m\u001b[1;33m(\u001b[0m\u001b[0mkey\u001b[0m\u001b[1;33m)\u001b[0m \u001b[1;32mfrom\u001b[0m \u001b[0merr\u001b[0m\u001b[1;33m\u001b[0m\u001b[1;33m\u001b[0m\u001b[0m\n\u001b[0m\u001b[0;32m   2898\u001b[0m \u001b[1;33m\u001b[0m\u001b[0m\n\u001b[0;32m   2899\u001b[0m         \u001b[1;32mif\u001b[0m \u001b[0mtolerance\u001b[0m \u001b[1;32mis\u001b[0m \u001b[1;32mnot\u001b[0m \u001b[1;32mNone\u001b[0m\u001b[1;33m:\u001b[0m\u001b[1;33m\u001b[0m\u001b[1;33m\u001b[0m\u001b[0m\n",
      "\u001b[1;31mKeyError\u001b[0m: 11"
     ]
    }
   ],
   "source": [
    "import numpy as np\n",
    "import matplotlib.pyplot as plt\n",
    "from matplotlib.pyplot import figure\n",
    "\n",
    "figure(figsize=(12, 6), dpi=80)\n",
    "x_pos = np.arange(1,31)\n",
    "w =1000\n",
    "F = []\n",
    "for i in range(30):\n",
    "    F.append(doctm[i+1][5])\n",
    "# F = [doctm[1][w],doctm[2][w],doctm[3][w],doctm[4][w],doctm[5][w],doctm[6][w],doctm[7][w],doctm[8][w],doctm[9][w],doctm[10][w]]\n",
    "plt.bar(x_pos, F)\n",
    "\n",
    "plt.xticks(range(1,30))\n",
    "plt.ylim(0,1)\n",
    "\n",
    "plt.show()"
   ]
  },
  {
   "cell_type": "code",
   "execution_count": 115,
   "metadata": {},
   "outputs": [
    {
     "output_type": "execute_result",
     "data": {
      "text/plain": [
       "                                               paper  \\\n",
       "1  [ 國立臺灣師範大學運動與休閒學院 運動休閒與餐旅管理研究所 碩士學位論文 不同形式之自然體...   \n",
       "\n",
       "                                               token         1         2    3  \\\n",
       "1  [[國立臺灣師範大學, 運動, 休閒, 學院, 運動休閒, 餐旅管理, 研究所, 碩士, 學...  0.016277  0.013808  0.0   \n",
       "\n",
       "          4    5    6         7        8    9        10  max_top  \n",
       "1  0.158678  0.0  0.0  0.032807  0.43902  0.0  0.339389        8  "
      ],
      "text/html": "<div>\n<style scoped>\n    .dataframe tbody tr th:only-of-type {\n        vertical-align: middle;\n    }\n\n    .dataframe tbody tr th {\n        vertical-align: top;\n    }\n\n    .dataframe thead th {\n        text-align: right;\n    }\n</style>\n<table border=\"1\" class=\"dataframe\">\n  <thead>\n    <tr style=\"text-align: right;\">\n      <th></th>\n      <th>paper</th>\n      <th>token</th>\n      <th>1</th>\n      <th>2</th>\n      <th>3</th>\n      <th>4</th>\n      <th>5</th>\n      <th>6</th>\n      <th>7</th>\n      <th>8</th>\n      <th>9</th>\n      <th>10</th>\n      <th>max_top</th>\n    </tr>\n  </thead>\n  <tbody>\n    <tr>\n      <th>1</th>\n      <td>[ 國立臺灣師範大學運動與休閒學院 運動休閒與餐旅管理研究所 碩士學位論文 不同形式之自然體...</td>\n      <td>[[國立臺灣師範大學, 運動, 休閒, 學院, 運動休閒, 餐旅管理, 研究所, 碩士, 學...</td>\n      <td>0.016277</td>\n      <td>0.013808</td>\n      <td>0.0</td>\n      <td>0.158678</td>\n      <td>0.0</td>\n      <td>0.0</td>\n      <td>0.032807</td>\n      <td>0.43902</td>\n      <td>0.0</td>\n      <td>0.339389</td>\n      <td>8</td>\n    </tr>\n  </tbody>\n</table>\n</div>"
     },
     "metadata": {},
     "execution_count": 115
    }
   ],
   "source": [
    "docid = 1\n",
    "doctm[doctm.index == docid]"
   ]
  },
  {
   "cell_type": "code",
   "execution_count": 191,
   "metadata": {},
   "outputs": [
    {
     "output_type": "execute_result",
     "data": {
      "text/plain": [
       "1"
      ]
     },
     "metadata": {},
     "execution_count": 191
    }
   ],
   "source": []
  },
  {
   "cell_type": "code",
   "execution_count": 142,
   "metadata": {},
   "outputs": [
    {
     "output_type": "execute_result",
     "data": {
      "text/plain": [
       "                                               paper  \\\n",
       "1  [ 國立臺灣師範大學運動與休閒學院 運動休閒與餐旅管理研究所 碩士學位論文 不同形式之自然體...   \n",
       "\n",
       "                                               token  \n",
       "1  [[國立臺灣師範大學, 運動, 休閒, 學院, 運動休閒, 餐旅管理, 研究所, 碩士, 學...  "
      ],
      "text/html": "<div>\n<style scoped>\n    .dataframe tbody tr th:only-of-type {\n        vertical-align: middle;\n    }\n\n    .dataframe tbody tr th {\n        vertical-align: top;\n    }\n\n    .dataframe thead th {\n        text-align: right;\n    }\n</style>\n<table border=\"1\" class=\"dataframe\">\n  <thead>\n    <tr style=\"text-align: right;\">\n      <th></th>\n      <th>paper</th>\n      <th>token</th>\n    </tr>\n  </thead>\n  <tbody>\n    <tr>\n      <th>1</th>\n      <td>[ 國立臺灣師範大學運動與休閒學院 運動休閒與餐旅管理研究所 碩士學位論文 不同形式之自然體...</td>\n      <td>[[國立臺灣師範大學, 運動, 休閒, 學院, 運動休閒, 餐旅管理, 研究所, 碩士, 學...</td>\n    </tr>\n  </tbody>\n</table>\n</div>"
     },
     "metadata": {},
     "execution_count": 142
    }
   ],
   "source": [
    "doctm[doctm.index == docid][['paper','token']]"
   ]
  },
  {
   "cell_type": "code",
   "execution_count": 161,
   "metadata": {
    "tags": []
   },
   "outputs": [],
   "source": [
    "# for x in doctm[doctm.index == 1]['paper']:\n",
    "#     print(x)\n",
    "a = pd.DataFrame({'paper':data[1]})"
   ]
  },
  {
   "cell_type": "code",
   "execution_count": 155,
   "metadata": {
    "tags": []
   },
   "outputs": [
    {
     "output_type": "execute_result",
     "data": {
      "text/plain": [
       "1"
      ]
     },
     "metadata": {},
     "execution_count": 155
    }
   ],
   "source": [
    "len(doctm[doctm.index == 1]['paper'])\n",
    "    # print(x)\n",
    "    # break"
   ]
  },
  {
   "cell_type": "code",
   "execution_count": 1,
   "metadata": {},
   "outputs": [
    {
     "output_type": "error",
     "ename": "FileNotFoundError",
     "evalue": "[Errno 2] No such file or directory: 'df_50.pkl'",
     "traceback": [
      "\u001b[1;31m---------------------------------------------------------------------------\u001b[0m",
      "\u001b[1;31mFileNotFoundError\u001b[0m                         Traceback (most recent call last)",
      "\u001b[1;32m<ipython-input-1-3fac909771fc>\u001b[0m in \u001b[0;36m<module>\u001b[1;34m\u001b[0m\n\u001b[1;32m----> 1\u001b[1;33m \u001b[1;32mwith\u001b[0m \u001b[0mopen\u001b[0m\u001b[1;33m(\u001b[0m\u001b[1;34m\"df_50.pkl\"\u001b[0m \u001b[1;33m,\u001b[0m\u001b[1;34m'rb'\u001b[0m\u001b[1;33m)\u001b[0m \u001b[1;32mas\u001b[0m \u001b[0mf\u001b[0m\u001b[1;33m:\u001b[0m\u001b[1;33m\u001b[0m\u001b[1;33m\u001b[0m\u001b[0m\n\u001b[0m\u001b[0;32m      2\u001b[0m     \u001b[0maaa\u001b[0m \u001b[1;33m=\u001b[0m \u001b[0mpickle\u001b[0m\u001b[1;33m.\u001b[0m\u001b[0mload\u001b[0m\u001b[1;33m(\u001b[0m\u001b[0mf\u001b[0m\u001b[1;33m)\u001b[0m\u001b[1;33m\u001b[0m\u001b[1;33m\u001b[0m\u001b[0m\n",
      "\u001b[1;31mFileNotFoundError\u001b[0m: [Errno 2] No such file or directory: 'df_50.pkl'"
     ]
    }
   ],
   "source": [
    "with open(\"topdf_50.pkl\" ,'rb') as f:\n",
    "    aaa = pickle.load(f) "
   ]
  },
  {
   "cell_type": "code",
   "execution_count": null,
   "metadata": {},
   "outputs": [],
   "source": []
  }
 ]
}